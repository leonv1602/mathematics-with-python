{
 "cells": [
  {
   "cell_type": "markdown",
   "metadata": {},
   "source": [
    "# Fungsi  \n",
    "## Motivasi  \n",
    "Pada pemrograman yang kompleks, efisiensi dan kerapian kode sangatlah penting. Hal ini dapat membantu seseorang untuk dapat memperbaiki kodenya dengan lebih cepat dan orang lain yang membaca kodenya juga dapat memahami dengan cepat. Fungsi adalah salah satu cara yang sederhana untuk mengulang suatu kode yang sama dengan nilai parameter yang berbeda. Struktur dari sebuah fungsi adalah sebagai berikut : \n",
    "```\n",
    "def nama_fungsi(parameter):  \n",
    "    kode \n",
    "    kode\n",
    "    return variabel yang mau disimpan  \n",
    "```\n",
    "\n",
    "Fungsi yang tidak diakhiri dengan return akan disebut dengan **method**"
   ]
  },
  {
   "cell_type": "markdown",
   "metadata": {},
   "source": [
    "## Demo  \n",
    "Misalkan ingin dihitung nilai sebuah fungsi sebagai berikut : $$f(x) = x^3 + \\sin(x^2) - 2x$$"
   ]
  },
  {
   "cell_type": "code",
   "execution_count": 19,
   "metadata": {},
   "outputs": [
    {
     "data": {
      "text/plain": [
       "21.412118485241756"
      ]
     },
     "execution_count": 19,
     "metadata": {},
     "output_type": "execute_result"
    }
   ],
   "source": [
    "import numpy as np \n",
    "def fungsi1(x): \n",
    "    return x**3+np.sin(x**2)-2*x \n",
    "\n",
    "fungsi1(3)"
   ]
  },
  {
   "cell_type": "markdown",
   "metadata": {},
   "source": [
    "Atau akan dibuat sebuah fungsi yang dapat mengurutkan sebuah list dari yang terbesar hingga yang terkecil.  "
   ]
  },
  {
   "cell_type": "code",
   "execution_count": 20,
   "metadata": {},
   "outputs": [
    {
     "data": {
      "text/plain": [
       "[0.3, 1, 1.3, 2, 5, 12, 12, 16, 21, 52]"
      ]
     },
     "execution_count": 20,
     "metadata": {},
     "output_type": "execute_result"
    }
   ],
   "source": [
    "def urut(lst):  \n",
    "    temp = []\n",
    "    kecil = 0\n",
    "    for i in range(len(lst)):\n",
    "        kecil = min(lst)  \n",
    "        temp.append(kecil)\n",
    "        lst.pop(lst.index(min(lst)))\n",
    "    return temp\n",
    "\n",
    "lst = [0.3,2,1.3,1,52,5,16,21,12, 12]\n",
    "urut(lst)"
   ]
  },
  {
   "cell_type": "code",
   "execution_count": 25,
   "metadata": {},
   "outputs": [
    {
     "data": {
      "image/png": "[encoded data removed]",
      "text/plain": [
       "<Figure size 1080x1080 with 2 Axes>"
      ]
     },
     "metadata": {
      "needs_background": "light"
     },
     "output_type": "display_data"
    }
   ],
   "source": [
    "import seaborn as sns\n",
    "import matplotlib.pyplot as plt\n",
    "import matplotlib as mpl\n",
    "import pandas as pd\n",
    "\n",
    "def lapangan(n=100,portion_fire=1/100,seed = 14045):\n",
    "  global area,titik_api\n",
    "  area = np.zeros([n,n])\n",
    "  np.random.seed(seed)\n",
    "  area[0,:] = -1\n",
    "  area[-1,:] = -1\n",
    "  area [:,0] = -1\n",
    "  area[:,-1] = -1 \n",
    "  # Api : \n",
    "  titik_api = 0\n",
    "  lokasi = []\n",
    "  while titik_api <n*n*portion_fire:\n",
    "    i = np.random.randint(1,n-1)\n",
    "    j = np.random.randint(1,n-1) \n",
    "    if area[i,j]!= -1 or area[i,j]!=1:\n",
    "      if np.random.rand()<0.2:  \n",
    "        lokasi = np.append(lokasi,[i,j],axis =0)\n",
    "        area[i,j] = 1\n",
    "        titik_api +=1  \n",
    "  lokasi = lokasi.reshape((titik_api,2))\n",
    "  lokasi[:, [1, 0]] = lokasi[:, [0, 1]] \n",
    "  \n",
    "  return area,titik_api,lokasi"
   ]
  },
  {
   "cell_type": "code",
   "execution_count": null,
   "metadata": {},
   "outputs": [],
   "source": [
    "fig,ax = plt.subplots(figsize=(15,15))\n",
    "area,api,lokasi = lapangan()\n",
    "sns.heatmap(area,linewidths=0.3,center= 0,cmap=\"gist_earth_r\",ax=ax,linecolor='black')\n",
    "ax.set_xticklabels('')\n",
    "ax.set_yticklabels('')\n",
    "plt.show()"
   ]
  }
 ],
 "metadata": {
  "interpreter": {
   "hash": "573a5c7e7f6b69a982819e50b3614ba2e70da23418480f96bebec1796dfd44fd"
  },
  "kernelspec": {
   "display_name": "Python 3.8.12 ('base')",
   "language": "python",
   "name": "python3"
  },
  "language_info": {
   "codemirror_mode": {
    "name": "ipython",
    "version": 3
   },
   "file_extension": ".py",
   "mimetype": "text/x-python",
   "name": "python",
   "nbconvert_exporter": "python",
   "pygments_lexer": "ipython3",
   "version": "3.8.12"
  },
  "orig_nbformat": 4
 },
 "nbformat": 4,
 "nbformat_minor": 2
}
