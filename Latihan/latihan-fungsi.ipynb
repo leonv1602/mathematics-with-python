{
 "cells": [
  {
   "cell_type": "markdown",
   "metadata": {},
   "source": [
    "# Latihan \n",
    "\n",
    "1. Buatlah fungsi yang dapat menerima masukkan kecepatan, yang dinotasikan dengan $v$, dan waktu, yang dinotasikan dengan $t$ dan mengeluarkan output posisi saat ini  \n",
    "2. Buatlah fungsi yang dapat menaksir nilai dari $\\sin(2x)$ dengan deret Taylor  \n",
    "3. Buatlah fungsi bubble sort  \n",
    "4. Buatlah fungsi yang dapat menentukan apakah suatu bilangan tersebut adalah bilangan prima dan mengeluarkan bilangan prima terbesar dan terkecil yang terdekat dari bilangan tersebut. \n",
    "5. Buatlah fungsi yang dapat memeriksa apakah suatu string merupakan palindrome atau bukan.   "
   ]
  }
 ],
 "metadata": {
  "language_info": {
   "name": "python"
  },
  "orig_nbformat": 4
 },
 "nbformat": 4,
 "nbformat_minor": 2
}
