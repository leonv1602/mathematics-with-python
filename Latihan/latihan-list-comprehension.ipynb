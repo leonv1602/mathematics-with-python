{
 "cells": [
  {
   "cell_type": "markdown",
   "metadata": {},
   "source": [
    "# Latihan List Comprehension  \n",
    "1. Buatlah List Comprehension yang berisi 10 bilangan genap di antara bilangan 30 dan 40 secara berurutan dari yang terbesar hingga yang terkecil.   \n",
    "2. Buatlah List Comprehension bilangan dari 100 hingga 300 dengan langkah sebesar 13.  \n",
    "3. Buatlah List Comprehension yang akan menghasilkan nilai True untuk bilangan ganjil dan False untuk bilangan genap  \n",
    "4. Dengan jawaban nomor 2, buatlah sebuah list comprehension yang memeriksa apakah bilangan tersebut habis dibagi 7 atau tidak.  \n",
    "5. Jika seseorang meminjam uang sebesar 300 dan tiap waktunya ia membayar balik sebanyak 10% dari pinjamannya. Buatlah list comprehension yang mencatat sisa pinjamannya tiap waktu.  "
   ]
  },
  {
   "cell_type": "markdown",
   "metadata": {},
   "source": []
  }
 ],
 "metadata": {
  "interpreter": {
   "hash": "573a5c7e7f6b69a982819e50b3614ba2e70da23418480f96bebec1796dfd44fd"
  },
  "kernelspec": {
   "display_name": "Python 3.8.12 ('base')",
   "language": "python",
   "name": "python3"
  },
  "language_info": {
   "name": "python",
   "version": "3.8.12"
  },
  "orig_nbformat": 4
 },
 "nbformat": 4,
 "nbformat_minor": 2
}
