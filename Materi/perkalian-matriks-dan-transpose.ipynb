{
 "cells": [
  {
   "cell_type": "markdown",
   "metadata": {},
   "source": [
    "# Iterasi **For** dan **While**"
   ]
  },
  {
   "cell_type": "markdown",
   "metadata": {},
   "source": [
    "Akan diperkenalkan terlebih dahulu suatu fungsi atau **syntax** yang dapat digunakan untuk melakukan suatu hal secara berulang - ulang. Hal ini yang disebut dengan iterasi dan pada Python penulisan iterasi tersebut adalah sebagai berikut : \n",
    "```\n",
    "for dummy variable in range (banyak iterasi):  \n",
    "    action\n",
    "```\n",
    "Ada yang unik dengan fungsi **for**, yaitu iterasi dimulai dari 0 dan berhenti pada indeks sebelum banyak iterasi yang ditentukan. Contoh \n",
    "``` \n",
    "for i in range(5):\n",
    "```\n",
    "Maka **i** akan diulang sebanyak 5 kali dengan nilai **i** adalah 0,1,2,3 dan 4 secara berururtan.  \n",
    "dapat pula dibuat pengulangan berdasarkan suatu kelipatan tertentu ataupun mulai dari indeks-indeks tertentu.  Secara bentuk seperti berikut :\n",
    "\n",
    "```\n",
    "(start, stop, step)\n",
    "```\n",
    "dengan start adalah indeks pertama, stop adalah batas indeks terakhir dan step adalah kelipatan indeks yang akan diambil.\n",
    "\n",
    "``` \n",
    "for i in range(5):\n",
    "```\n",
    "\n",
    "\n",
    "Untuk pengulangan yang tak hingga dapat digunakan fungsi **while**  \n",
    "``` \n",
    "while condition  :\n",
    "    action (jangan lupa untuk mengubah kondisi agar iterasi berhenti)\n",
    "```"
   ]
  },
  {
   "cell_type": "code",
   "execution_count": 2,
   "metadata": {},
   "outputs": [
    {
     "name": "stdout",
     "output_type": "stream",
     "text": [
      "0\n",
      "1\n",
      "2\n"
     ]
    }
   ],
   "source": [
    "# Contoh \n",
    "\n",
    "for i in range(3):\n",
    "    print(i)"
   ]
  },
  {
   "cell_type": "code",
   "execution_count": 4,
   "metadata": {},
   "outputs": [
    {
     "name": "stdout",
     "output_type": "stream",
     "text": [
      "1\n",
      "4\n",
      "7\n",
      "10\n",
      "13\n",
      "16\n",
      "19\n",
      "22\n"
     ]
    }
   ],
   "source": [
    "for k in range(1,24, 3):\n",
    "    print(k)"
   ]
  },
  {
   "cell_type": "code",
   "execution_count": 3,
   "metadata": {},
   "outputs": [
    {
     "name": "stdout",
     "output_type": "stream",
     "text": [
      "1\n",
      "0\n"
     ]
    }
   ],
   "source": [
    "cond = True\n",
    "n = 0\n",
    "while cond == True:\n",
    "    if n != 0 : \n",
    "        n-=1\n",
    "        print(n)\n",
    "        cond = False\n",
    "    else :\n",
    "        n+=1 \n",
    "        print(n)"
   ]
  },
  {
   "cell_type": "markdown",
   "metadata": {},
   "source": [
    "Misal akan dihitung jumlah deret berikut :  \n",
    "\\begin{equation}\n",
    "\\sum_{i = 1}^{10} i = 1+2+3+4+5+6+7+8+9+10 = 55\n",
    "\\end{equation}"
   ]
  },
  {
   "cell_type": "code",
   "execution_count": 7,
   "metadata": {},
   "outputs": [
    {
     "name": "stdout",
     "output_type": "stream",
     "text": [
      "1\n",
      "2\n",
      "3\n",
      "4\n",
      "5\n",
      "6\n",
      "7\n",
      "8\n",
      "9\n",
      "10\n"
     ]
    },
    {
     "data": {
      "text/plain": [
       "55"
      ]
     },
     "execution_count": 7,
     "metadata": {},
     "output_type": "execute_result"
    }
   ],
   "source": [
    "sum = 0\n",
    "for i in range(1,11):\n",
    "    print(i)\n",
    "    sum += i\n",
    "sum"
   ]
  },
  {
   "cell_type": "markdown",
   "metadata": {},
   "source": [
    "# Latihan \n",
    "Hitunglah jumlah deret berikut :  \n",
    "\\begin{equation}\n",
    "\\sum_{i = 1}^{10} i^2 \n",
    "\\end{equation}\n",
    "\\begin{equation}\n",
    "\\frac{1}{10}\\sum_{n = 1}^{10} (n-3)^2 \n",
    "\\end{equation}\n",
    "\n",
    "\\begin{equation}\n",
    "\\sum_{j = 1}^{5} \\sum_{i = 1}^{10} ij \n",
    "\\end{equation}\n"
   ]
  },
  {
   "cell_type": "markdown",
   "metadata": {},
   "source": [
    "# Tranpose "
   ]
  },
  {
   "cell_type": "markdown",
   "metadata": {},
   "source": [
    "Operator Transpose adalah operator yang \"memindahkan\" atau \"memutar\" matriks yang dinotasikan seperti pangkat. Misalkan matriks $\\mathbf{X}$ sebagai berikut  \n",
    "\\begin{equation}\n",
    "\\mathbf{X} =\n",
    "\\begin{bmatrix}\n",
    "x_{11} & x_{12} & \\cdots & x_{1n} \\\\\n",
    "x_{21} & x_{22} & \\cdots & x_{2n} \\\\\n",
    "\\vdots & \\vdots & \\ddots & \\vdots \\\\\n",
    "x_{n1} & x_{n2} & \\cdots & x_{nn} \\\\\n",
    "\\end{bmatrix} \n",
    "\\end{equation}\n",
    "Maka transpose dari matrix $\\mathbf{X}$ adalah sebagai berikut : \n",
    "\\begin{equation}\n",
    "\\mathbf{X}^T =\n",
    "\\begin{bmatrix}\n",
    "x_{11} & x_{21} & \\cdots & x_{n1} \\\\\n",
    "x_{12} & x_{22} & \\cdots & x_{n2} \\\\\n",
    "\\vdots & \\vdots & \\ddots & \\vdots \\\\\n",
    "x_{1n} & x_{2n} & \\cdots & x_{nn} \\\\\n",
    "\\end{bmatrix} \n",
    "\\end{equation}"
   ]
  },
  {
   "cell_type": "markdown",
   "metadata": {},
   "source": [
    "# Latihan ! \n",
    "Tentukanlah trasnpose untuk matriks berikut \n",
    "\\begin{equation}\n",
    "\\mathbf{A} =\n",
    "\\begin{bmatrix}\n",
    "1 & 2 \\\\\n",
    "3 & 2 \\\\\n",
    "2 & 1 \\\\\n",
    "5 & 6\n",
    "\\end{bmatrix}\n",
    "\\end{equation}\n",
    "\n",
    "\\begin{equation}\n",
    "\\mathbf{B} =\n",
    "\\begin{bmatrix}\n",
    "1 & 2 &3\\\\\n",
    "3 & 2 & 1\\\\\n",
    "\\end{bmatrix}\n",
    "\\end{equation}\n"
   ]
  },
  {
   "cell_type": "markdown",
   "metadata": {},
   "source": [
    "# Perkalian Matriks\n",
    "Misalkan kembali $\\mathbf{X}$ dan $\\mathbf{Y}$ adalah suatu matriks ukuran $n\\times n$\n",
    "\\begin{equation*} \\mathbf{X} =\n",
    "\\begin{bmatrix}\n",
    "x_{11} & x_{12} & \\cdots & x_{1n} \\\\\n",
    "x_{21} & x_{22} & \\cdots & x_{2n} \\\\\n",
    "\\vdots & \\vdots & \\ddots & \\vdots \\\\\n",
    "x_{n1} & x_{n2} & \\cdots & x_{nn} \\\\\n",
    "\\end{bmatrix} \\text{ dan }\n",
    "\\mathbf{Y} = \n",
    "\\begin{bmatrix}\n",
    "y_{11} & y_{12} & \\cdots & y_{1n} \\\\\n",
    "y_{21} & y_{22} & \\cdots & y_{2n} \\\\\n",
    "\\vdots & \\vdots & \\ddots & \\vdots \\\\\n",
    "y_{n1} & y_{n2} & \\cdots & y_{nn} \\\\\n",
    "\\end{bmatrix}\n",
    "\\end{equation*}\n",
    "\n",
    "Perkalian matriks memiliki suatu aturan khusus yang perlu dipenuhi seperti berikut : \n",
    "\\begin{equation*}\n",
    "(n \\times m) \\cdot (m \\times n) = (n \\times n)\n",
    "\\end{equation*}\n",
    "dengan kata lain ukuran baris dari vektor / matriks yang pertama harus sama dengan ukuran kolom dari vektor / matriks. Contoh :\n",
    "\\begin{align*}\n",
    "(2 \\times 3) \\cdot (3 \\times 2) = (2 \\times 2) \\\\\n",
    "(3 \\times 2) \\cdot (2 \\times 4) = (3 \\times 4)\n",
    "\\end{align*}\n",
    "Sehingga untuk perkalian \n",
    "\n",
    "Sehingga diperoleh : \n",
    "\\begin{equation*} \\mathbf{X} \\cdot \\mathbf{Y} = \n",
    "\\begin{bmatrix}\n",
    "x_{11} & x_{12} & \\cdots & x_{1n} \\\\\n",
    "x_{21} & x_{22} & \\cdots & x_{2n} \\\\\n",
    "\\vdots & \\vdots & \\ddots & \\vdots \\\\\n",
    "x_{n1} & x_{n2} & \\cdots & x_{nn} \\\\\n",
    "\\end{bmatrix} \\cdot\n",
    "\\begin{bmatrix}\n",
    "y_{11} & y_{12} & \\cdots & y_{1n} \\\\\n",
    "y_{21} & y_{22} & \\cdots & y_{2n} \\\\\n",
    "\\vdots & \\vdots & \\ddots & \\vdots \\\\\n",
    "y_{n1} & y_{n2} & \\cdots & y_{nn} \\\\\n",
    "\\end{bmatrix} =\n",
    "\\begin{bmatrix}\n",
    "x_{11}y_{11} + x_{12}y_{21} + \\dots + x_{1n}y_{n1} & x_{11}y_{12} + x_{12}y_{22} + \\dots +x_{1n}y_{n2} & \\cdots & x_{11}y_{1n} + x_{12}y_{2n} + \\dots + x_{1n}y_{nn} \\\\\n",
    "x_{21}y_{11} + x_{22}y_{21} + \\dots + x_{2n}y_{n1} & x_{21}y_{12} + x_{22}y_{22} + \\dots + x_{2n}y_{n2} & \\cdots & x_{21}y_{1n} + x_{22}y_{2n} + \\dots + x_{2n}y_{nn} \\\\\n",
    "\\vdots & \\vdots & \\ddots & \\vdots \\\\\n",
    "x_{n1}y_{11} + x_{n2}y_{21} + \\dots + x_{nn}y_{n1} & x_{n1}y_{12} + x_{n2}y_{22} + \\dots + x_{nn}y_{n2} & \\cdots & x_{n1}y_{1n} + x_{n2}y_{2n} + \\dots + x_{nn}y_{nn} \\\\\n",
    "\\end{bmatrix}\n",
    "\\end{equation*}"
   ]
  },
  {
   "cell_type": "markdown",
   "metadata": {},
   "source": [
    "## Latihan !!  \n",
    "- Hitunglah perkalian matriks berikut jika diketahui \n",
    "\\begin{equation*} \\mathbf{X} =\n",
    "\\begin{bmatrix}\n",
    "1 & 2 & -2 & 1 \\\\\n",
    "2 & 2 & 2 & 1 \\\\\n",
    "1 & 2 & 1 & 1 \\\\\n",
    "2 & -1 & 1 & 2 \\\\\n",
    "\\end{bmatrix} \\text{ dan }\n",
    "\\mathbf{Y} = \n",
    "\\begin{bmatrix}\n",
    "1 & 2 & 2 & -1 \\\\\n",
    "-2 & 2 & -2 & 1 \\\\\n",
    "1 & -2 & 1 & 1 \\\\\n",
    "-2 & 1 & 1 & -2 \\\\\n",
    "\\end{bmatrix}\n",
    "\\end{equation*}\n",
    "- $\\mathbf{X} \\cdot \\mathbf{Y}$\n",
    "- $\\mathbf{X} \\cdot \\mathbf{Y}^2$\n",
    "- $2\\mathbf{X} \\cdot 3\\mathbf{Y}$\n",
    "- $\\mathbf{X}^T \\cdot \\mathbf{Y}$"
   ]
  },
  {
   "cell_type": "markdown",
   "metadata": {},
   "source": [
    "# Tambahan \n",
    "Operator pada matriks lainnya adalah Trace yang dinotasikan dengan $\\text{tr}(\\cdot)$. Trace adalah jumlah dari elemen diagonal suatu matriks persegi "
   ]
  }
 ],
 "metadata": {
  "interpreter": {
   "hash": "573a5c7e7f6b69a982819e50b3614ba2e70da23418480f96bebec1796dfd44fd"
  },
  "kernelspec": {
   "display_name": "Python 3.8.12 ('base')",
   "language": "python",
   "name": "python3"
  },
  "language_info": {
   "codemirror_mode": {
    "name": "ipython",
    "version": 3
   },
   "file_extension": ".py",
   "mimetype": "text/x-python",
   "name": "python",
   "nbconvert_exporter": "python",
   "pygments_lexer": "ipython3",
   "version": "3.8.12"
  },
  "orig_nbformat": 4
 },
 "nbformat": 4,
 "nbformat_minor": 2
}
