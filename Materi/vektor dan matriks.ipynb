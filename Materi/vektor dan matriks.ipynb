{
 "cells": [
  {
   "cell_type": "code",
   "execution_count": 1,
   "metadata": {},
   "outputs": [],
   "source": [
    "%matplotlib inline\n",
    "# Packages\n",
    "import numpy as np\n",
    "import matplotlib.pyplot as plt"
   ]
  },
  {
   "cell_type": "markdown",
   "metadata": {},
   "source": [
    "# Array atau List ?\n",
    "Dalam pemrograman umumnya dikenal suatu struktur data yang dinamakan dengan **List**. **List** ini seperti sebuah daftar yang dapat berisi berbagai data maupun tipe data. Analoginya akan mirip dengan sebuah rak buku ataupun suatu kotak persegi panjang. Dalam kotak tersebut, kita dapat dengan leluasa untuk meletakkan/menyimpan barang-barang yang kita inginkan. Secara sekilas,  **List** dengan **Array** tidak memiliki perbedaan, hanya saja untuk membuat sebuah array, umumnya digunakan modul **Numpy**. Dalam Python, perbedaan antara **List** dengan **Array** adalah **Array** bisa dilakukan operasi perhitungan seperti vektor ataupun matriks."
   ]
  },
  {
   "cell_type": "code",
   "execution_count": 2,
   "metadata": {},
   "outputs": [
    {
     "name": "stdout",
     "output_type": "stream",
     "text": [
      "list [1, 2] <class 'list'>\n",
      "array [1 2] <class 'numpy.ndarray'>\n"
     ]
    }
   ],
   "source": [
    "lst = [1,2] # List \n",
    "arr = np.array([1,2]) # Array\n",
    "print('list', lst,type(lst),)\n",
    "print('array', arr,type(arr))"
   ]
  },
  {
   "cell_type": "code",
   "execution_count": 3,
   "metadata": {},
   "outputs": [
    {
     "data": {
      "text/plain": [
       "[1, 2, [3, 'sepatu']]"
      ]
     },
     "execution_count": 3,
     "metadata": {},
     "output_type": "execute_result"
    }
   ],
   "source": [
    "lst.append([3, 'sepatu'])\n",
    "lst"
   ]
  },
  {
   "cell_type": "code",
   "execution_count": 4,
   "metadata": {},
   "outputs": [
    {
     "data": {
      "text/plain": [
       "array(['1', '2', '3', 'sepatu'], dtype='<U11')"
      ]
     },
     "execution_count": 4,
     "metadata": {},
     "output_type": "execute_result"
    }
   ],
   "source": [
    "arr = np.append(arr, [3, 'sepatu'])\n",
    "arr"
   ]
  },
  {
   "cell_type": "markdown",
   "metadata": {},
   "source": [
    "## List Comprehension  \n",
    "Bagaimana jika kita ingin men'cacah' bilangan tanpa menggunakan iterasi ? **List Comprehension** adalah salah satu solusi untuk dapat membuat suatu array untuk suatu bilangan tertentu dan juga untuk suatu iterasi lainnya"
   ]
  },
  {
   "cell_type": "code",
   "execution_count": 6,
   "metadata": {},
   "outputs": [
    {
     "name": "stdout",
     "output_type": "stream",
     "text": [
      "Contoh list comprehension yang biasa, [0, 1, 2, 3, 4]\n",
      "Contoh 5 bilangan genap pertama [0, 2, 4, 6, 8]\n",
      "Contoh 5 bilangan genap pertama [True, False, False, False, False]\n"
     ]
    }
   ],
   "source": [
    "arr = [i for i in range(5)]\n",
    "print('Contoh list comprehension yang biasa,', arr)\n",
    "\n",
    "genap = [i*2 for i in range(5)]\n",
    "print('Contoh 5 bilangan genap pertama', genap)\n",
    "\n",
    "kecil_dari_2 = [True if genap[i] < 2 else False for i in range(5) ]\n",
    "print('Contoh 5 bilangan genap pertama', kecil_dari_2)\n"
   ]
  },
  {
   "cell_type": "markdown",
   "metadata": {},
   "source": [
    "## Latihan !\n",
    "- Buatlah sebuah list yang berisi bilangan kuadrat sempurna untuk bilangan yang berada di antara 100 dan 200\n",
    "- Buatlah sebuah list comprehension untuk 10 bilangan prima pertama  \n"
   ]
  },
  {
   "cell_type": "markdown",
   "metadata": {},
   "source": [
    "# Vektor dan Matriks\n",
    "Umumnya suatu koordinat $(x,y)$ pada 2 dimensi ditulis dalam bentuk vektor kolom seperti berikut $\\begin{bmatrix} x \\\\ y \\end{bmatrix}$. Begitu pula untuk suatu koordinat 3 dimensi maka koordinat  $(x,y,z)$ ditulis dalam bentuk vektor kolom seperti berikut $\\begin{bmatrix} x \\\\ y \\\\ z\\end{bmatrix}$."
   ]
  },
  {
   "cell_type": "markdown",
   "metadata": {},
   "source": [
    "Misal ada suatu koordinat (3,4) dan koordinat (-2,3). Maka dalam sumbu kartersius dapat dibuat seperti berikut "
   ]
  },
  {
   "cell_type": "markdown",
   "metadata": {},
   "source": []
  },
  {
   "cell_type": "code",
   "execution_count": 5,
   "metadata": {},
   "outputs": [
    {
     "data": {
      "image/png": "[encoded data removed]",
      "text/plain": [
       "<Figure size 432x288 with 1 Axes>"
      ]
     },
     "metadata": {
      "needs_background": "light"
     },
     "output_type": "display_data"
    }
   ],
   "source": [
    "koordinat_x = [3, -2]\n",
    "koordinat_y = [4, 3]\n",
    "plt.scatter(koordinat_x, koordinat_y)\n",
    "plt.title('Koordinat dari 2 titik')\n",
    "plt.xlabel(r'Sumbu $x$')\n",
    "plt.ylabel(r'Sumbu $y$')\n",
    "plt.xlim(-5,5)\n",
    "plt.ylim(-6,6)\n",
    "plt.grid(True)\n",
    "plt.show()"
   ]
  },
  {
   "cell_type": "markdown",
   "metadata": {},
   "source": [
    "Vektor adalah suatu bentuk khusus dari sebuah matriks. Misalkan suatu matriks dengan ukuran $n\\times m$ didefinisikan sebagai berikut :  \n",
    "\\begin{equation*}\n",
    "\\mathbf{A} = \n",
    "\\begin{bmatrix}\n",
    "a_{11} & a_{12} & \\cdots & a_{1m} \\\\\n",
    "a_{21} & a_{22} & \\cdots & a_{2m} \\\\\n",
    "\\vdots & \\vdots & \\ddots & \\vdots \\\\\n",
    "a_{n1} & a_{n2} & \\cdots & a_{nm} \\\\\n",
    "\\end{bmatrix}\n",
    "\\end{equation*}\n",
    "Secara umum elemen dari suatu matriks ditulis dengan 2 buah indeks $i$ dan $j$ dengan $i$ menyatakan baris ke-$i$ dan $j$ menyatakan kolom ke-$j$.   \n",
    "Umumnya, matriks digunakan untuk menyelesaikan suatu sistem persamaan linear."
   ]
  },
  {
   "cell_type": "markdown",
   "metadata": {},
   "source": [
    "Untuk masing-masing vektor dan matriks, ada suatu operator yang mengubah urutan dari elemen"
   ]
  },
  {
   "cell_type": "markdown",
   "metadata": {},
   "source": [
    "## Operasi Perhitungan Matriks\n",
    "Operasi perhitungan yang dapat dilakukan antar matriks adalah penjumlahan dan pengurangan. Misalkan $\\mathbf{X}$ dan $\\mathbf{Y}$ adalah suatu matriks ukuran $n\\times m$\n",
    "\\begin{equation*} \\mathbf{X} =\n",
    "\\begin{bmatrix}\n",
    "x_{11} & x_{12} & \\cdots & x_{1m} \\\\\n",
    "x_{21} & x_{22} & \\cdots & x_{2m} \\\\\n",
    "\\vdots & \\vdots & \\ddots & \\vdots \\\\\n",
    "x_{n1} & x_{n2} & \\cdots & x_{nm} \\\\\n",
    "\\end{bmatrix} \\text{ dan }\n",
    "\\mathbf{Y} = \n",
    "\\begin{bmatrix}\n",
    "y_{11} & y_{12} & \\cdots & y_{1m} \\\\\n",
    "y_{21} & y_{22} & \\cdots & y_{2m} \\\\\n",
    "\\vdots & \\vdots & \\ddots & \\vdots \\\\\n",
    "y_{n1} & y_{n2} & \\cdots & y_{nm} \\\\\n",
    "\\end{bmatrix}\n",
    "\\end{equation*}\n",
    "\n",
    "Sehingga diperoleh : \n",
    "\\begin{equation*} \\mathbf{X} + \\mathbf{Y} = \n",
    "\\begin{bmatrix}\n",
    "x_{11} & x_{12} & \\cdots & x_{1m} \\\\\n",
    "x_{21} & x_{22} & \\cdots & x_{2m} \\\\\n",
    "\\vdots & \\vdots & \\ddots & \\vdots \\\\\n",
    "x_{n1} & x_{n2} & \\cdots & x_{nm} \\\\\n",
    "\\end{bmatrix} +\n",
    "\\begin{bmatrix}\n",
    "y_{11} & y_{12} & \\cdots & y_{1m} \\\\\n",
    "y_{21} & y_{22} & \\cdots & y_{2m} \\\\\n",
    "\\vdots & \\vdots & \\ddots & \\vdots \\\\\n",
    "y_{n1} & y_{n2} & \\cdots & y_{nm} \\\\\n",
    "\\end{bmatrix} =\n",
    "\\begin{bmatrix}\n",
    "x_{11} + y_{11} & x_{12} + y_{12} & \\cdots & x_{1m} +y_{1m} \\\\\n",
    "x_{21} + y_{21} & x_{22} + y_{22} & \\cdots & x_{2m} + y_{2m} \\\\\n",
    "\\vdots & \\vdots & \\ddots & \\vdots \\\\\n",
    "x_{n1} + y_{n1} & x_{n2} + y_{n2} & \\cdots & x_{nm} +y_{nm} \\\\\n",
    "\\end{bmatrix}\n",
    "\\end{equation*}\n",
    "\n",
    "Hal serupa juga berlaku untuk pengurangan.  \n",
    "\n",
    "Sedangkan untuk perkalian ada suatu aturan khusus yang perlu dipenuhi seperti berikut : \n",
    "\\begin{equation*}\n",
    "(n \\times m) \\cdot (m \\times n) = (n \\times n)\n",
    "\\end{equation*}\n",
    "dengan kata lain ukuran baris dari vektor / matriks yang pertama harus sama dengan ukuran kolom dari vektor / matriks. Contoh :\n",
    "\\begin{align*}\n",
    "(2 \\times 3) \\cdot (3 \\times 2) = (2 \\times 2) \\\\\n",
    "(3 \\times 2) \\cdot (2 \\times 4) = (3 \\times 4)\n",
    "\\end{align*}"
   ]
  },
  {
   "cell_type": "markdown",
   "metadata": {},
   "source": [
    "## Latihan !!  \n",
    "- Hitunglah jumlah matriks berikut jika diketahui \n",
    "\\begin{equation*} \\mathbf{X} =\n",
    "\\begin{bmatrix}\n",
    "1 & 2 & 2 & 1 \\\\\n",
    "2 & 2 & 2 & 1 \\\\\n",
    "1 & 2 & 1 & 1 \\\\\n",
    "2 & 1 & 1 & 2 \\\\\n",
    "\\end{bmatrix} \\text{ dan }\n",
    "\\mathbf{Y} = \n",
    "\\begin{bmatrix}\n",
    "1 & 2 & 2 & -1 \\\\\n",
    "-2 & 2 & 2 & 1 \\\\\n",
    "1 & -2 & 1 & 1 \\\\\n",
    "-2 & 1 & 1 & 2 \\\\\n",
    "\\end{bmatrix}\n",
    "\\end{equation*}\n",
    "- $\\mathbf{X} + \\mathbf{Y}$\n",
    "- $\\mathbf{X} - \\mathbf{Y}$\n",
    "- $2\\mathbf{X} + 3\\mathbf{Y}$"
   ]
  }
 ],
 "metadata": {
  "interpreter": {
   "hash": "760892ce3164b76c03b317fa412cee1719926f6318c2a0c9ea286a3f84560ff2"
  },
  "kernelspec": {
   "display_name": "Python 3.9.1 64-bit",
   "language": "python",
   "name": "python3"
  },
  "language_info": {
   "codemirror_mode": {
    "name": "ipython",
    "version": 3
   },
   "file_extension": ".py",
   "mimetype": "text/x-python",
   "name": "python",
   "nbconvert_exporter": "python",
   "pygments_lexer": "ipython3",
   "version": "3.8.12"
  },
  "orig_nbformat": 4
 },
 "nbformat": 4,
 "nbformat_minor": 2
}
